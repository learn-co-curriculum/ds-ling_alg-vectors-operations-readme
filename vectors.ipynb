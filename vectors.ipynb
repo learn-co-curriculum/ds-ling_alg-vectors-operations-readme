{
 "cells": [
  {
   "cell_type": "markdown",
   "metadata": {},
   "source": [
    "## Vectors\n",
    "\n",
    "* Describe a vector as a combination of scalar values along with geometric intuition. \n",
    "* Define a vector in python and using indexing to address/modify its elements.\n",
    "* Apply basic vector-vector and vector-scalar arithmetic operations.\n",
    "* Calculate dot products as a measure of similarity."
   ]
  },
  {
   "cell_type": "markdown",
   "metadata": {},
   "source": [
    "Let's get started with an introduction to vectors and matrices for machine learning. \n",
    "\n",
    "### What is a Vector?\n",
    "\n",
    "A vector is a tuple of one or more values - known as scalar components of the vector.\n",
    "\n",
    "> **Vectors are built from individual components, which are numerical in nature. We can think of a vector as a list of numbers (like the cost vector with `b` and `b` above), and vector algebra as operations performed on the numbers in the list**\n",
    "\n",
    "Vectors are usually represented using a vertical or a horizontal orientation (analogous to column vs. row in a data table). This can be shown as :\n",
    "\n",
    "$$\n",
    "v = \n",
    "\\left(\\begin{array}{cc} \n",
    "v1 & v2 & v3 & v4\\\\\n",
    "\\end{array}\\right)\n",
    "$$ \n",
    "\n",
    "OR \n",
    "\n",
    "$$\n",
    "v = \n",
    "\\left(\\begin{array}{cc} \n",
    "v1\\\\\n",
    "v1\\\\\n",
    "v1\\\\\n",
    "v1\\\\\n",
    "\\end{array}\\right)\n",
    "$$ "
   ]
  },
  {
   "cell_type": "markdown",
   "metadata": {},
   "source": [
    "where `v` is the name of the vector and `v1,v2,v3,v4` are the scalar components of the vector. "
   ]
  },
  {
   "cell_type": "markdown",
   "metadata": {},
   "source": [
    "In machine learning systems, the output variable (e.g. the cost vector above) is known as a target vector with the lowercase `y` when describing the training of a machine learning algorithm.\n",
    "\n",
    "#### A geometric intuition\n",
    "A vector can be thought as an entity that represents spatial coordinates in an n-dimensional space, where n is the number of dimensions. A vector can also represent a line from the origin of the vector space with a direction and a magnitude, based on scalar components.\n",
    "\n",
    "Let’s look at how to define a vector in Python."
   ]
  },
  {
   "cell_type": "markdown",
   "metadata": {},
   "source": [
    "### Defining a Vector in Python\n",
    "In python, one of the easiest ways to represent a vector is using `Numpy` arrays. The list scalar values can be used to create a vector in python as shown below:"
   ]
  },
  {
   "cell_type": "code",
   "execution_count": 71,
   "metadata": {},
   "outputs": [
    {
     "name": "stdout",
     "output_type": "stream",
     "text": [
      "[2 4 6]\n"
     ]
    }
   ],
   "source": [
    "# create a vector from list [2,4,6]\n",
    "import numpy as np\n",
    "v = np.array([2, 4, 6])\n",
    "print(v)"
   ]
  },
  {
   "cell_type": "markdown",
   "metadata": {},
   "source": [
    "So now we have a vector with given values, we shall see later that we can rotate this to form a vertical vector using numpy's `.T` or `np.transpose()`, i.e. transpose the vector. "
   ]
  },
  {
   "cell_type": "code",
   "execution_count": 76,
   "metadata": {},
   "outputs": [
    {
     "data": {
      "text/plain": [
       "array([2, 4, 6])"
      ]
     },
     "execution_count": 76,
     "metadata": {},
     "output_type": "execute_result"
    }
   ],
   "source": [
    "v.T"
   ]
  },
  {
   "cell_type": "markdown",
   "metadata": {},
   "source": [
    "The commas between the elements after transpose signifies a new row. "
   ]
  },
  {
   "cell_type": "markdown",
   "metadata": {},
   "source": [
    "### Indexing a Vector"
   ]
  },
  {
   "cell_type": "markdown",
   "metadata": {},
   "source": [
    "There are times when we have a lot of data in a vector (or array as we now know it) and we want to extract a portion of the data for some analysis. For example, maybe you want to know the first few values of a long array, or you want the integral of data between x = 4 and x = 6, but your vector covers 0 < x < 10. Indexing is the way to do these things. Let's generate a long vector to see this action using 10 values between -pi and pi (i.e. -3.14 to 3.14):"
   ]
  },
  {
   "cell_type": "code",
   "execution_count": 17,
   "metadata": {},
   "outputs": [
    {
     "name": "stdout",
     "output_type": "stream",
     "text": [
      "[-3.14159265 -2.44346095 -1.74532925 -1.04719755 -0.34906585  0.34906585\n",
      "  1.04719755  1.74532925  2.44346095  3.14159265]\n"
     ]
    }
   ],
   "source": [
    "x = np.linspace(-np.pi, np.pi, 10)\n",
    "print(x)"
   ]
  },
  {
   "cell_type": "markdown",
   "metadata": {},
   "source": [
    "We can use the index values to address individual scalar values within this vector , similar to python list indexing as shown below:"
   ]
  },
  {
   "cell_type": "code",
   "execution_count": 19,
   "metadata": {},
   "outputs": [
    {
     "name": "stdout",
     "output_type": "stream",
     "text": [
      "-3.141592653589793\n",
      "-1.7453292519943295\n",
      "3.141592653589793\n",
      "2.443460952792061\n"
     ]
    }
   ],
   "source": [
    "print (x[0])  # first element\n",
    "print (x[2])  # third element\n",
    "print (x[-1]) # last element\n",
    "print (x[-2]) # second to last element"
   ]
  },
  {
   "cell_type": "markdown",
   "metadata": {},
   "source": [
    "We can select a range of elements too. The syntax `a:b` extracts the ath to b-1th elements. The syntax a:b:n starts at a, skips n elements up to the index b."
   ]
  },
  {
   "cell_type": "code",
   "execution_count": 21,
   "metadata": {},
   "outputs": [
    {
     "name": "stdout",
     "output_type": "stream",
     "text": [
      "[-2.44346095 -1.74532925 -1.04719755]\n",
      "[-3.14159265 -1.74532925 -0.34906585  1.04719755  2.44346095]\n",
      "[-3.14159265 -2.44346095 -1.74532925 -1.04719755 -0.34906585  0.34906585\n",
      "  1.04719755  1.74532925  2.44346095  3.14159265]\n",
      "[ 3.14159265  2.44346095  1.74532925  1.04719755  0.34906585 -0.34906585\n",
      " -1.04719755 -1.74532925 -2.44346095]\n"
     ]
    }
   ],
   "source": [
    "print (x[1:4])     # second to fourth element. Element 5 is not included\n",
    "print (x[0:-1:2])  # every other element\n",
    "print (x[:])       # print the whole vector\n",
    "print (x[-1:0:-1]) # reverse the vector!"
   ]
  },
  {
   "cell_type": "markdown",
   "metadata": {},
   "source": [
    "### Basic Vector Arithmetic "
   ]
  },
  {
   "cell_type": "markdown",
   "metadata": {},
   "source": [
    "Two vectors of **same length** can be added, subtracted, multiplied and divided - to create a new vector. For vector-to-vector arithmetic, we can use Numpy's built in basic arithmetic operations including addition, multiplication, subtraction and division as shown below:\n",
    "\n",
    "#### Addition\n",
    "Each element of the new vector is calculated by adding  elements of the other vectors at the same location. \n",
    "\n",
    "> **a + b = [ a1 + b1 , a2 + b2 , a3 + b3 ]**\n",
    "\n",
    "Let's see this in action: "
   ]
  },
  {
   "cell_type": "code",
   "execution_count": 4,
   "metadata": {},
   "outputs": [
    {
     "name": "stdout",
     "output_type": "stream",
     "text": [
      "[2 4 6] + [1 3 5] = [ 3  7 11]\n"
     ]
    }
   ],
   "source": [
    "# create two arrays in numpy and add them - print results\n",
    "v1 = np.array([2,4,6])\n",
    "v2 = np.array([1,3,5])\n",
    "v_added = v1 + v2\n",
    "print (v1, '+', v2, '=', v_added)"
   ]
  },
  {
   "cell_type": "markdown",
   "metadata": {},
   "source": [
    "#### Subtraction\n",
    "\n",
    "Each element of the new vector is calculated by subtracting elements of the other vectors at the same location. \n",
    "\n",
    "> **a - b = [ a1 - b1 , a2 - b2 , a3 - b3 ]**"
   ]
  },
  {
   "cell_type": "code",
   "execution_count": 5,
   "metadata": {},
   "outputs": [
    {
     "name": "stdout",
     "output_type": "stream",
     "text": [
      "[2 4 6] - [1 3 5] = [1 1 1]\n"
     ]
    }
   ],
   "source": [
    "# create two arrays in numpy and subtract them - print results\n",
    "v1 = np.array([2,4,6])\n",
    "v2 = np.array([1,3,5])\n",
    "v = v1 - v2\n",
    "print (v1, '-', v2, '=', v)"
   ]
  },
  {
   "cell_type": "markdown",
   "metadata": {},
   "source": [
    "#### Multiplication\n",
    "Each element of the new vector is calculated by multiplying elements of the other vectors at the same location.\n",
    "\n",
    "> **a \\* b = [ a1 \\* b1 , a2 \\* b2 , a3 \\* b3 ]**"
   ]
  },
  {
   "cell_type": "code",
   "execution_count": 6,
   "metadata": {},
   "outputs": [
    {
     "name": "stdout",
     "output_type": "stream",
     "text": [
      "[2 4 6] * [1 3 5] = [ 2 12 30]\n"
     ]
    }
   ],
   "source": [
    "# create two arrays in numpy and multiply them - print results\n",
    "v1 = np.array([2,4,6])\n",
    "v2 = np.array([1,3,5])\n",
    "v = v1 * v2\n",
    "print (v1, '*', v2, '=', v)"
   ]
  },
  {
   "cell_type": "markdown",
   "metadata": {},
   "source": [
    "#### Division\n",
    "As with other arithmetic operations, division is also performed element-wise to result in a new vector of the same length.\n",
    "\n",
    "> ** a / b = [ a1 / b1 , a2 / b2 , a3 / b3 ]**"
   ]
  },
  {
   "cell_type": "code",
   "execution_count": 9,
   "metadata": {},
   "outputs": [
    {
     "name": "stdout",
     "output_type": "stream",
     "text": [
      "[2 4 6] / [1 3 5] = [2.         1.33333333 1.2       ]\n"
     ]
    }
   ],
   "source": [
    "# create two arrays in numpy and divide them - print results\n",
    "v1 = np.array([2,4,6])\n",
    "v2 = np.array([1,3,5])\n",
    "v = v1 / v2\n",
    "print (v1, '/', v2, '=', v)"
   ]
  },
  {
   "cell_type": "markdown",
   "metadata": {},
   "source": [
    "So we see above that `Numpy` allows on-the-fly creation of vectors and lets' us perform arithmetic operations without having to do manual element wise operations. "
   ]
  },
  {
   "cell_type": "markdown",
   "metadata": {},
   "source": [
    "### Vector Dot-Product"
   ]
  },
  {
   "cell_type": "markdown",
   "metadata": {},
   "source": [
    "A vector dot-product can be thought of as a **similarity measure** between two vectors just like \"Cosine similarity measure\". The relation between dot product and cosine is similar to the relation between covariance and correlation - one is normalized and bounded version of another. We shall look into this with more detail later in the section. The outcome of dot-product is a single number , i.e. a scalar value that reflects how similar (or dis-similar) the input vectors are. This is called the **dot product**, named because of the dot operator used when describing the operation i.e. a**\\.**b.\n",
    "\n",
    "The dot product is calculated as follows:\n",
    "\n",
    "\n",
    "> ** a . b = [ a1 \\* b1 + a2 \\* b2 + a3 \\* b3 ]**\n",
    "\n",
    "\n",
    "This is one of common operations performed on vectors(and matrices) in deep learning domain. Let's see this works in three scenarios below using numpy with `.dot()` method:"
   ]
  },
  {
   "cell_type": "code",
   "execution_count": 12,
   "metadata": {},
   "outputs": [
    {
     "name": "stdout",
     "output_type": "stream",
     "text": [
      "[2 4 6] . [1 3 5] = 44\n"
     ]
    }
   ],
   "source": [
    "# create two arrays (dis-similar) in numpy and take the dot-product - print results\n",
    "v1 = np.array([2,4,6])\n",
    "v2 = np.array([1,3,5])\n",
    "v = v1 .dot(v2)\n",
    "print (v1, '.', v2, '=', v)"
   ]
  },
  {
   "cell_type": "code",
   "execution_count": 14,
   "metadata": {},
   "outputs": [
    {
     "name": "stdout",
     "output_type": "stream",
     "text": [
      "[5 1 5] . [5 5 5] = 55\n"
     ]
    }
   ],
   "source": [
    "# create two arrays (somewhat-similar) in numpy and take the dot-product - print results\n",
    "v1 = np.array([5,1,5])\n",
    "v2 = np.array([5,5,5])\n",
    "v = v1 .dot(v2)\n",
    "print (v1, '.', v2, '=', v)"
   ]
  },
  {
   "cell_type": "code",
   "execution_count": 13,
   "metadata": {},
   "outputs": [
    {
     "name": "stdout",
     "output_type": "stream",
     "text": [
      "[5 5 5] . [5 5 5] = 75\n"
     ]
    }
   ],
   "source": [
    "# create two arrays (similar) in numpy and take the dot-product - print results\n",
    "v1 = np.array([5,5,5])\n",
    "v2 = np.array([5,5,5])\n",
    "v = v1 .dot(v2)\n",
    "print (v1, '.', v2, '=', v)"
   ]
  },
  {
   "cell_type": "markdown",
   "metadata": {},
   "source": [
    "So we see that the output of a dot-product can be seen as a scalar value, the magnitude of  which helps us identify how similar or different the input vectors are. "
   ]
  },
  {
   "cell_type": "markdown",
   "metadata": {},
   "source": [
    "### Vector Scalar Multiplication"
   ]
  },
  {
   "cell_type": "markdown",
   "metadata": {},
   "source": [
    "Vectors can be multiplied to scalar values (i.e. a single number) to get a vector in the output with same length as input vector. Each value of the vector elements is multiplied to the scalar value as shown below:\n",
    "\n",
    "> **s \\* v = [ s \\* v1 , s \\* v2 , s \\* v3 ]**\n",
    "( here s is the scalar and v is the vector )\n",
    "\n",
    "Numpy arrays use a simple multiplication operator to achieve this as shown below"
   ]
  },
  {
   "cell_type": "code",
   "execution_count": 16,
   "metadata": {},
   "outputs": [
    {
     "name": "stdout",
     "output_type": "stream",
     "text": [
      "5 * [2 4 6] = [10 20 30]\n"
     ]
    }
   ],
   "source": [
    "# create an array  (vector)  and multiply it with a number (scalar) - print results\n",
    "v1 = np.array([2,4,6])\n",
    "s = 5\n",
    "v = s * v1\n",
    "print (s, '*', v1, '=', v)"
   ]
  },
  {
   "cell_type": "markdown",
   "metadata": {},
   "source": [
    "Similarly, vector-scalar addition, subtraction, and division can be performed exactly in the same way."
   ]
  },
  {
   "cell_type": "markdown",
   "metadata": {},
   "source": [
    "## Summary\n",
    "\n",
    "In this lesson we saw an introduction to vectors in python and numpy. We performed basic arithmetic operations on vectors and also some specialized operations like dot product. We shall now move to learning the same for matrices in python and numpy. "
   ]
  },
  {
   "cell_type": "code",
   "execution_count": null,
   "metadata": {},
   "outputs": [],
   "source": []
  }
 ],
 "metadata": {
  "kernelspec": {
   "display_name": "Python 3",
   "language": "python",
   "name": "python3"
  },
  "language_info": {
   "codemirror_mode": {
    "name": "ipython",
    "version": 3
   },
   "file_extension": ".py",
   "mimetype": "text/x-python",
   "name": "python",
   "nbconvert_exporter": "python",
   "pygments_lexer": "ipython3",
   "version": "3.6.4"
  }
 },
 "nbformat": 4,
 "nbformat_minor": 2
}
